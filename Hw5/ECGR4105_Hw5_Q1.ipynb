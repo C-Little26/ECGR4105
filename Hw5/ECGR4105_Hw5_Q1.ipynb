{
  "nbformat": 4,
  "nbformat_minor": 0,
  "metadata": {
    "colab": {
      "provenance": [],
      "authorship_tag": "ABX9TyNQJpijK5HI2Pezeb+L+toW",
      "include_colab_link": true
    },
    "kernelspec": {
      "name": "python3",
      "display_name": "Python 3"
    },
    "language_info": {
      "name": "python"
    }
  },
  "cells": [
    {
      "cell_type": "markdown",
      "metadata": {
        "id": "view-in-github",
        "colab_type": "text"
      },
      "source": [
        "<a href=\"https://colab.research.google.com/github/C-Little26/ECGR4105/blob/main/Hw5/ECGR4105_Hw5_Q1.ipynb\" target=\"_parent\"><img src=\"https://colab.research.google.com/assets/colab-badge.svg\" alt=\"Open In Colab\"/></a>"
      ]
    },
    {
      "cell_type": "code",
      "execution_count": 1,
      "metadata": {
        "colab": {
          "base_uri": "https://localhost:8080/"
        },
        "id": "imBMGp42CbFo",
        "outputId": "c9a169ef-f028-4201-e17b-fe3f222cfd8e"
      },
      "outputs": [
        {
          "output_type": "stream",
          "name": "stdout",
          "text": [
            "Drive already mounted at /content/drive; to attempt to forcibly remount, call drive.mount(\"/content/drive\", force_remount=True).\n"
          ]
        }
      ],
      "source": [
        "#necessary libraries\n",
        "import numpy as np\n",
        "import pandas as pd\n",
        "import seaborn as sea\n",
        "import matplotlib.pyplot as plt\n",
        "import torch\n",
        "import tensorflow\n",
        "import torch.nn as nn\n",
        "import torch.optim as optim\n",
        "from sklearn.model_selection import KFold\n",
        "from sklearn.model_selection import cross_val_score\n",
        "from sklearn.linear_model import LogisticRegression\n",
        "from sklearn.naive_bayes import GaussianNB\n",
        "from sklearn.decomposition import PCA\n",
        "from sklearn import datasets\n",
        "from sklearn import metrics\n",
        "from sklearn.svm import SVC\n",
        "from sklearn.metrics import confusion_matrix\n",
        "from sklearn.metrics import classification_report\n",
        "from sklearn.model_selection import train_test_split\n",
        "from sklearn.preprocessing import StandardScaler\n",
        "from sklearn.preprocessing import MinMaxScaler\n",
        "from google.colab import drive\n",
        "drive.mount('/content/drive')"
      ]
    },
    {
      "cell_type": "code",
      "source": [
        "t_c = [0.5, 14.0, 15.0, 28.0, 11.0, 8.0, 3.0, -4.0, 6.0, 13.0, 21.0]\n",
        "t_u = [35.7, 55.9, 58.2, 81.9, 56.3, 48.9, 33.9, 21.8, 48.4, 60.4, 68.4]\n",
        "t_c = torch.tensor(t_c)\n",
        "t_u = torch.tensor(t_u)\n",
        "t_un = 0.01 * t_u\n",
        "params = torch.tensor([1.0, 1.0, 0.0], requires_grad=True)"
      ],
      "metadata": {
        "id": "gfsUp45mDeq6"
      },
      "execution_count": 2,
      "outputs": []
    },
    {
      "cell_type": "code",
      "source": [
        "#defining the nonlinear model\n",
        "def nonlinear(t_u, w2, w1, b):\n",
        "    return w2 * t_u**2 + w1 * t_u + b\n",
        "#defining the linear model\n",
        "def linear(t_u, w, b):\n",
        "    return w * t_u + b\n",
        "#define loss function\n",
        "def loss_fn(t_p, t_c):\n",
        "    squared_diffs = (t_p - t_c)**2\n",
        "    return squared_diffs.mean()\n",
        "\n"
      ],
      "metadata": {
        "id": "k8SaLir8MRWs"
      },
      "execution_count": 3,
      "outputs": []
    },
    {
      "cell_type": "code",
      "source": [
        "w2 = torch.ones(())\n",
        "w1 = torch.ones(())\n",
        "b = torch.zeros(())\n",
        "\n",
        "t_p = nonlinear(t_u,w2,w1,b)\n",
        "#computing the loss\n",
        "loss = loss_fn(t_p, t_c)\n",
        "\n",
        "print(t_p)\n",
        "print(loss)"
      ],
      "metadata": {
        "colab": {
          "base_uri": "https://localhost:8080/"
        },
        "id": "gdqWozSTMm_g",
        "outputId": "e6afe7f5-1af1-4dc0-9ea9-84429c84bf35"
      },
      "execution_count": 4,
      "outputs": [
        {
          "output_type": "stream",
          "name": "stdout",
          "text": [
            "tensor([1310.1901, 3180.7100, 3445.4399, 6789.5103, 3225.9900, 2440.1101,\n",
            "        1183.1101,  497.0399, 2390.9600, 3708.5601, 4746.9600])\n",
            "tensor(11709471.)\n"
          ]
        }
      ]
    },
    {
      "cell_type": "code",
      "source": [
        "# Non-linear training loop\n",
        "def nonlinear_loop(n_epochs, params, t_u, t_c, learning_rate):\n",
        "    print(f'Learning Rate: {learning_rate}')\n",
        "    for epoch in range(1, n_epochs+1):\n",
        "\n",
        "        t_p = nonlinear (t_u, *params)\n",
        "        loss = loss_fn(t_p, t_c)\n",
        "        optimizer.zero_grad()\n",
        "        loss.backward()\n",
        "        optimizer.step()\n",
        "\n",
        "        if epoch % 500 == 0:\n",
        "            print ('Epoch %d, Loss %f' % (epoch, float(loss)))\n",
        "    return params\n",
        "\n"
      ],
      "metadata": {
        "id": "NCnkoHmmNDpq"
      },
      "execution_count": 5,
      "outputs": []
    },
    {
      "cell_type": "code",
      "source": [
        "# Linear training loop\n",
        "def linear_loop(n_epochs, optimizer, params, t_u, t_c):\n",
        "    for epoch in range(1, n_epochs+1):\n",
        "        t_p = linear (t_u, *params)\n",
        "        loss = loss_fn(t_p, t_c)\n",
        "\n",
        "        optimizer.zero_grad()\n",
        "        loss.backward()\n",
        "        optimizer.step()\n",
        "\n",
        "        if epoch % 500 == 0:\n",
        "            print ('Epoch %d, Loss %f' % (epoch, float(loss)))\n",
        "    return params"
      ],
      "metadata": {
        "id": "4BzzKPflNh1G"
      },
      "execution_count": 6,
      "outputs": []
    },
    {
      "cell_type": "code",
      "source": [
        "#establish variables for model iterations\n",
        "learning_rate = [0.1, 0.01, 0.001, 0.0001]\n",
        "sgd_params = torch.zeros(len(learning_rate), 3)\n",
        "sgd_loss = torch.zeros(len(learning_rate), 1)\n",
        "#run training for each learning rate using SGD\n",
        "for i in learning_rate:\n",
        "    params = torch.tensor([1.0, 1.0, 0.0], requires_grad=True)\n",
        "    optimizer = optim.SGD([params], lr=i)\n",
        "    print(f'\\nTraining with learning rate: {learning_rate}')\n",
        "    sgd_params[learning_rate.index(i)] = nonlinear_loop(n_epochs = 5000, params = params, t_u = t_un, t_c = t_c, learning_rate = i)\n",
        "\n",
        "\n"
      ],
      "metadata": {
        "colab": {
          "base_uri": "https://localhost:8080/"
        },
        "id": "UCUtpIA8Nno1",
        "outputId": "bbeecd96-f83d-475c-9e26-436e0748551a"
      },
      "execution_count": 7,
      "outputs": [
        {
          "output_type": "stream",
          "name": "stdout",
          "text": [
            "\n",
            "Training with learning rate: [0.1, 0.01, 0.001, 0.0001]\n",
            "Learning Rate: 0.1\n",
            "Epoch 500, Loss 2.108456\n",
            "Epoch 1000, Loss 2.090728\n",
            "Epoch 1500, Loss 2.090720\n",
            "Epoch 2000, Loss 2.090720\n",
            "Epoch 2500, Loss 2.090721\n",
            "Epoch 3000, Loss 2.090719\n",
            "Epoch 3500, Loss 2.090720\n",
            "Epoch 4000, Loss 2.090720\n",
            "Epoch 4500, Loss 2.090720\n",
            "Epoch 5000, Loss 2.090720\n",
            "\n",
            "Training with learning rate: [0.1, 0.01, 0.001, 0.0001]\n",
            "Learning Rate: 0.01\n",
            "Epoch 500, Loss 26.266186\n",
            "Epoch 1000, Loss 12.949670\n",
            "Epoch 1500, Loss 6.968258\n",
            "Epoch 2000, Loss 4.281574\n",
            "Epoch 2500, Loss 3.074787\n",
            "Epoch 3000, Loss 2.532740\n",
            "Epoch 3500, Loss 2.289264\n",
            "Epoch 4000, Loss 2.179901\n",
            "Epoch 4500, Loss 2.130778\n",
            "Epoch 5000, Loss 2.108713\n",
            "\n",
            "Training with learning rate: [0.1, 0.01, 0.001, 0.0001]\n",
            "Learning Rate: 0.001\n",
            "Epoch 500, Loss 58.822189\n",
            "Epoch 1000, Loss 48.348232\n",
            "Epoch 1500, Loss 44.396774\n",
            "Epoch 2000, Loss 41.118404\n",
            "Epoch 2500, Loss 38.115955\n",
            "Epoch 3000, Loss 35.345898\n",
            "Epoch 3500, Loss 32.788918\n",
            "Epoch 4000, Loss 30.428556\n",
            "Epoch 4500, Loss 28.249678\n",
            "Epoch 5000, Loss 26.238340\n",
            "\n",
            "Training with learning rate: [0.1, 0.01, 0.001, 0.0001]\n",
            "Learning Rate: 0.0001\n",
            "Epoch 500, Loss 138.825058\n",
            "Epoch 1000, Loss 118.428955\n",
            "Epoch 1500, Loss 102.817139\n",
            "Epoch 2000, Loss 90.845161\n",
            "Epoch 2500, Loss 81.642403\n",
            "Epoch 3000, Loss 74.546761\n",
            "Epoch 3500, Loss 69.054512\n",
            "Epoch 4000, Loss 64.782639\n",
            "Epoch 4500, Loss 61.439720\n",
            "Epoch 5000, Loss 58.804115\n"
          ]
        }
      ]
    },
    {
      "cell_type": "code",
      "source": [
        "#run training for each learning rate using Adam\n",
        "adam_params = torch.zeros(len(learning_rate), 3)\n",
        "adam_loss = torch.zeros(len(learning_rate), 1)\n",
        "for i in learning_rate:\n",
        "    params = torch.tensor([1.0, 1.0, 0.0], requires_grad=True)\n",
        "    optimizer = optim.Adam([params], lr=i)\n",
        "    print(f'\\nTraining with learning rate: {learning_rate}')\n",
        "    adam_params[learning_rate.index(i)] = nonlinear_loop(n_epochs = 5000, params = params, t_u = t_un, t_c = t_c, learning_rate = i)"
      ],
      "metadata": {
        "colab": {
          "base_uri": "https://localhost:8080/"
        },
        "id": "y2NDwu9mOT0Y",
        "outputId": "9268586c-4c38-4331-f703-774a172cb0e7"
      },
      "execution_count": 8,
      "outputs": [
        {
          "output_type": "stream",
          "name": "stdout",
          "text": [
            "\n",
            "Training with learning rate: [0.1, 0.01, 0.001, 0.0001]\n",
            "Learning Rate: 0.1\n",
            "Epoch 500, Loss 7.720606\n",
            "Epoch 1000, Loss 2.183957\n",
            "Epoch 1500, Loss 2.105043\n",
            "Epoch 2000, Loss 2.103428\n",
            "Epoch 2500, Loss 2.101665\n",
            "Epoch 3000, Loss 2.099716\n",
            "Epoch 3500, Loss 2.097688\n",
            "Epoch 4000, Loss 2.095724\n",
            "Epoch 4500, Loss 2.093984\n",
            "Epoch 5000, Loss 2.092600\n",
            "\n",
            "Training with learning rate: [0.1, 0.01, 0.001, 0.0001]\n",
            "Learning Rate: 0.01\n",
            "Epoch 500, Loss 57.949375\n",
            "Epoch 1000, Loss 40.551365\n",
            "Epoch 1500, Loss 33.974369\n",
            "Epoch 2000, Loss 27.274963\n",
            "Epoch 2500, Loss 20.752810\n",
            "Epoch 3000, Loss 14.940594\n",
            "Epoch 3500, Loss 10.199280\n",
            "Epoch 4000, Loss 6.687758\n",
            "Epoch 4500, Loss 4.367293\n",
            "Epoch 5000, Loss 3.038020\n",
            "\n",
            "Training with learning rate: [0.1, 0.01, 0.001, 0.0001]\n",
            "Learning Rate: 0.001\n",
            "Epoch 500, Loss 146.404602\n",
            "Epoch 1000, Loss 129.578949\n",
            "Epoch 1500, Loss 114.772308\n",
            "Epoch 2000, Loss 101.786652\n",
            "Epoch 2500, Loss 90.459236\n",
            "Epoch 3000, Loss 80.654350\n",
            "Epoch 3500, Loss 72.255226\n",
            "Epoch 4000, Loss 65.156609\n",
            "Epoch 4500, Loss 59.257385\n",
            "Epoch 5000, Loss 54.453419\n",
            "\n",
            "Training with learning rate: [0.1, 0.01, 0.001, 0.0001]\n",
            "Learning Rate: 0.0001\n",
            "Epoch 500, Loss 163.438293\n",
            "Epoch 1000, Loss 161.446915\n",
            "Epoch 1500, Loss 159.478012\n",
            "Epoch 2000, Loss 157.530380\n",
            "Epoch 2500, Loss 155.602768\n",
            "Epoch 3000, Loss 153.694489\n",
            "Epoch 3500, Loss 151.804749\n",
            "Epoch 4000, Loss 149.932922\n",
            "Epoch 4500, Loss 148.078751\n",
            "Epoch 5000, Loss 146.241913\n"
          ]
        }
      ]
    },
    {
      "cell_type": "code",
      "source": [
        "#SGD with LR=0.1 is the best result\n",
        "#compare that to linear\n",
        "linear_train_params = torch.zeros(1, 2)\n",
        "linear_train_loss = torch.zeros(1, 1)\n",
        "lin_params = torch.tensor([1.0, 0.0], requires_grad=True)\n",
        "learning_rate = 0.1\n",
        "optimizer = optim.SGD([lin_params], lr=learning_rate)\n",
        "print(f'Linear model with LR={learning_rate}')\n",
        "lin_train_params = linear_loop(n_epochs = 5000, optimizer = optimizer, params = lin_params, t_u = t_un, t_c = t_c)"
      ],
      "metadata": {
        "colab": {
          "base_uri": "https://localhost:8080/"
        },
        "id": "qtqFrXNnXpvn",
        "outputId": "5562dad3-9611-454d-99b6-7c2209771cd7"
      },
      "execution_count": 9,
      "outputs": [
        {
          "output_type": "stream",
          "name": "stdout",
          "text": [
            "Linear model with LR=0.1\n",
            "Epoch 500, Loss 3.986502\n",
            "Epoch 1000, Loss 2.946055\n",
            "Epoch 1500, Loss 2.927963\n",
            "Epoch 2000, Loss 2.927650\n",
            "Epoch 2500, Loss 2.927644\n",
            "Epoch 3000, Loss 2.927644\n",
            "Epoch 3500, Loss 2.927644\n",
            "Epoch 4000, Loss 2.927644\n",
            "Epoch 4500, Loss 2.927644\n",
            "Epoch 5000, Loss 2.927644\n"
          ]
        }
      ]
    },
    {
      "cell_type": "code",
      "source": [
        "reset_params = torch.tensor([1.0,1.0, 0.0], requires_grad=True)\n",
        "optimizer = optim.SGD([reset_params], lr=0.1)\n",
        "best_nonlin = nonlinear_loop(5000,reset_params,t_un,t_c,0.1)\n",
        "t_non = nonlinear(t_u, *best_nonlin)\n",
        "t_lin = linear(t_u, *lin_train_params)\n",
        "\n",
        "t_non = t_non.detach().numpy()\n",
        "t_lin = t_lin.detach().numpy()"
      ],
      "metadata": {
        "colab": {
          "base_uri": "https://localhost:8080/"
        },
        "id": "OX9kmbFkdRH9",
        "outputId": "c4e28492-def4-4c9a-b160-bf34b7466818"
      },
      "execution_count": 10,
      "outputs": [
        {
          "output_type": "stream",
          "name": "stdout",
          "text": [
            "Learning Rate: 0.1\n",
            "Epoch 500, Loss 2.108456\n",
            "Epoch 1000, Loss 2.090728\n",
            "Epoch 1500, Loss 2.090720\n",
            "Epoch 2000, Loss 2.090720\n",
            "Epoch 2500, Loss 2.090721\n",
            "Epoch 3000, Loss 2.090719\n",
            "Epoch 3500, Loss 2.090720\n",
            "Epoch 4000, Loss 2.090720\n",
            "Epoch 4500, Loss 2.090720\n",
            "Epoch 5000, Loss 2.090720\n"
          ]
        }
      ]
    },
    {
      "cell_type": "code",
      "source": [
        "final_p = nonlinear(0.01 * t_u, *best_nonlin)\n",
        "w1_slides = 5.3671\n",
        "b_slides = -17.3012\n",
        "p_slides = (w1_slides * (0.1 * t_u) + b_slides)\n",
        "\n",
        "#sorting for easier graphing\n",
        "t_un_sort, index = torch.sort(t_u)\n",
        "t_un_sort = t_un_sort.detach().numpy()\n",
        "\n",
        "final_p, index = torch.sort(final_p)\n",
        "final_p = final_p.detach().numpy()\n",
        "final_slides, index = torch.sort(p_slides)\n",
        "final_slides = final_slides.detach().numpy()\n",
        "\n",
        "t_u = t_u.detach().numpy()\n",
        "t_c = t_c.detach().numpy()\n",
        "\n",
        "\n",
        "plt.plot(t_un_sort, final_p, label = \"Nonlinear Model\",)\n",
        "plt.plot(t_un_sort, final_slides, label = \"Linear Model\",)\n",
        "plt.scatter(t_u, t_c, label = \"Original Data\", marker = 'x', c='r')\n",
        "plt.xlabel(\"Farenheight\")\n",
        "plt.ylabel(\"Celcius\")\n",
        "plt.legend()\n",
        "plt.title(\"Comparing the Polynomial Model to the Linear Model\")\n",
        "plt.show()"
      ],
      "metadata": {
        "colab": {
          "base_uri": "https://localhost:8080/",
          "height": 472
        },
        "id": "6fFs5jj2cWr7",
        "outputId": "be1f5e20-dbb5-43b5-b9ce-96bb8967c8de"
      },
      "execution_count": 12,
      "outputs": [
        {
          "output_type": "display_data",
          "data": {
            "text/plain": [
              "<Figure size 640x480 with 1 Axes>"
            ],
            "image/png": "[encoded data removed]"
          },
          "metadata": {}
        }
      ]
    },
    {
      "cell_type": "code",
      "source": [],
      "metadata": {
        "id": "LTj6gUnX10H9"
      },
      "execution_count": 12,
      "outputs": []
    }
  ]
}